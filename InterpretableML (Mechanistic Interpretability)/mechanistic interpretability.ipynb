{
 "cells": [
  {
   "metadata": {},
   "cell_type": "markdown",
   "source": [
    "# Explainable NLP (BERT & LIME)\n",
    "\n",
    "This notebook demonstrates how to use BERT for toxic content detection and leverage LIME (Local Interpretable Model-Agnostic Explanations) to explain the predictions made by the BERT model. We will walk through the process of classifying toxic content in text using a pre-trained BERT model and then visualize which words contributed the most to the model's decision using LIME.\n",
    "\n",
    "**Author:** Lennox Anderson\n",
    "\n",
    "[![Open In Collab](https://colab.research.google.com/assets/colab-badge.svg)](https://colab.research.google.com/drive/1Ly3ZATeNtOTvHYX2T8kUN2U8QFTgDFBM?usp=sharing)\n",
    "***"
   ],
   "id": "d423ab96a9a0561c"
  },
  {
   "metadata": {},
   "cell_type": "code",
   "outputs": [],
   "execution_count": null,
   "source": "",
   "id": "5108ace8310ac40b"
  }
 ],
 "metadata": {
  "kernelspec": {
   "display_name": "Python 3",
   "language": "python",
   "name": "python3"
  },
  "language_info": {
   "codemirror_mode": {
    "name": "ipython",
    "version": 2
   },
   "file_extension": ".py",
   "mimetype": "text/x-python",
   "name": "python",
   "nbconvert_exporter": "python",
   "pygments_lexer": "ipython2",
   "version": "2.7.6"
  }
 },
 "nbformat": 4,
 "nbformat_minor": 5
}
